{
  "cells": [
    {
      "cell_type": "markdown",
      "metadata": {
        "id": "view-in-github",
        "colab_type": "text"
      },
      "source": [
        "<a href=\"https://colab.research.google.com/github/ArseniySerikov/lab1/blob/main/lab1.ipynb\" target=\"_parent\"><img src=\"https://colab.research.google.com/assets/colab-badge.svg\" alt=\"Open In Colab\"/></a>"
      ]
    },
    {
      "cell_type": "code",
      "execution_count": null,
      "metadata": {
        "colab": {
          "base_uri": "https://localhost:8080/"
        },
        "id": "-IdPORmhR4XE",
        "outputId": "6b73d20a-c559-417e-84bc-40210b410d85"
      },
      "outputs": [
        {
          "output_type": "stream",
          "name": "stdout",
          "text": [
            "enter 2 3 4 1 7 2\n",
            "[1, 2, 2, 3, 4, 7]\n",
            "6\n"
          ]
        }
      ],
      "source": [
        "enter = input(\"enter \")\n",
        "n = [int(num) for num in enter.split()]\n",
        "N = len(n)\n",
        "count_iteration = 0\n",
        "\n",
        "for i in range(0, N-1):\n",
        "    for j in range(0, N-1-i):\n",
        "        if n[j] > n[j+1]:\n",
        "           n[j], n[j +1] = n[j+1],n[j]\n",
        "           count_iteration += 1\n",
        "\n",
        "print(n)\n",
        "print(count_iteration)"
      ]
    },
    {
      "cell_type": "markdown",
      "source": [
        "# Загальна Iнформація\n",
        "Греція - це країна в Південній Європі, відома своєю давньою історією та культурними надбаннями. У неї розташоване безліч археологічних пам'яток, таких як Акрополь та Дельфі, які приваблюють тисячі туристів щороку. Грецький архіпелаг, що складається з сотень островів, є популярним місцем для відпочинку на пляжах та вивчення місцевої культури. Грецька кухня відома своїми традиційними стравами, такими як мусака, сувлакі та грецький салат, які пропонують багатий смак і смакові враження. Країна має багатий спадок в галузі літератури, мистецтва та філософії, з відомими іменами, такими як Сократ, Платон та Аристотель. Грецький народ гордиться своєю спадщиною і активно просуває та зберігає свою культуру та історію.\n",
        "\n",
        "#### Площа:\n",
        "Загальна площа: 131 957 кв. км\n",
        "Площа суходолу: 130 647 кв. км\n",
        "Площа водойм:  1 310 кв. км\n",
        "Загальне населення:  10.72 мільйонів\n",
        "Густота населення: 82.02 осіб/кв. км\n",
        "\n",
        "#### Пам'ятки культури та природи:\n",
        "- Акрополь Афін\n",
        "Акрополь Афін - це одне з найвідоміших і найвідвідуваніших історичних місць у світі. Він є символом древніх Афін з багатою історією, яка налічує понад 2500 років. Акрополь служив як фортеця та місце поклоніння богам, на його території розташовувалися численні храми та інші архітектурні споруди. Парфенон, найвідоміший храм Акрополя, був побудований у V столітті до н.е. на вказівку перського царя Персея. Він був присвячений богині Афіні Парфенонській та вважається однією з найвидатніших архітектурних споруд давньогрецького світу. Парфенон є відмінним прикладом дорійського стилю архітектури та відомий своїми пропорціями, колонами та рельєфами, що зображують міфологічні сцени.\n",
        "\n",
        "![Фото](https://lh3.googleusercontent.com/p/AF1QipPSpG5USMnJSQJqc3E9gdfrsCwBGTihXR0eE0eQ=s1360-w1360-h1020)\n",
        "\n",
        "[Iнформаiя](https://ru.wikipedia.org/wiki/%D0%90%D1%84%D0%B8%D0%BD%D1%81%D0%BA%D0%B8%D0%B9_%D0%90%D0%BA%D1%80%D0%BE%D0%BF%D0%BE%D0%BB%D1%8C)\n",
        "\n",
        "# ======================\n",
        "\n",
        "#### Таблиця:\n",
        "\n",
        "| Параметр            | Значення                  |\n",
        "|---------------------|---------------------------|\n",
        "| Площа               | 131 957 кв. км            |\n",
        "| Населення           | 10.72 мільйонів           |\n",
        "| Густота населення   |  82.02 осіб/кв. км        |\n",
        "| Державний устрій    | Конституційна республіка  |\n",
        "\n",
        "\n",
        "\n",
        "\n"
      ],
      "metadata": {
        "id": "pGyhTnHcw6Qo"
      }
    },
    {
      "cell_type": "code",
      "source": [
        "%%HTML\n",
        "<svg xmlns=\"http://www.w3.org/2000/svg\" width=\"600\" height=\"400\" viewBox=\"0 0 27 18\">\n",
        "<rect fill=\"#0D5EAF\" width=\"27\" height=\"18\"/>\n",
        "<path fill=\"none\" stroke-width=\"2\" stroke=\"#FFF\" d=\"M5,0V11 M0,5H10 M10,3H27 M10,7H27 M0,11H27 M0,15H27\"/>\n",
        "<rect xmlns=\"http://www.w3.org/2000/svg\" fill=\"#0D5EAF\" width=\"27\" height=\"18\"/>\n",
        "<path xmlns=\"http://www.w3.org/2000/svg\" fill=\"none\" stroke-width=\"2\" stroke=\"#FFF\" d=\"M5,0V11 M0,5H10 M10,3H27 M10,7H27 M0,11H27 M0,15H27\"/>\n",
        "</svg>"
      ],
      "metadata": {
        "id": "qhXeugkaw1ly",
        "colab": {
          "base_uri": "https://localhost:8080/",
          "height": 421
        },
        "outputId": "d93e3e35-57a6-4745-9a8d-d10b8e3ecee4"
      },
      "execution_count": null,
      "outputs": [
        {
          "output_type": "display_data",
          "data": {
            "text/plain": [
              "<IPython.core.display.HTML object>"
            ],
            "text/html": [
              "<svg xmlns=\"http://www.w3.org/2000/svg\" width=\"600\" height=\"400\" viewBox=\"0 0 27 18\">\n",
              "<rect fill=\"#0D5EAF\" width=\"27\" height=\"18\"/>\n",
              "<path fill=\"none\" stroke-width=\"2\" stroke=\"#FFF\" d=\"M5,0V11 M0,5H10 M10,3H27 M10,7H27 M0,11H27 M0,15H27\"/>\n",
              "<rect xmlns=\"http://www.w3.org/2000/svg\" fill=\"#0D5EAF\" width=\"27\" height=\"18\"/>\n",
              "<path xmlns=\"http://www.w3.org/2000/svg\" fill=\"none\" stroke-width=\"2\" stroke=\"#FFF\" d=\"M5,0V11 M0,5H10 M10,3H27 M10,7H27 M0,11H27 M0,15H27\"/>\n",
              "</svg>\n"
            ]
          },
          "metadata": {}
        }
      ]
    },
    {
      "cell_type": "code",
      "source": [
        "git init"
      ],
      "metadata": {
        "colab": {
          "base_uri": "https://localhost:8080/",
          "height": 106
        },
        "id": "M0iY83anB94h",
        "outputId": "52814b8a-c1d8-4541-feae-2719d9330921"
      },
      "execution_count": null,
      "outputs": [
        {
          "output_type": "error",
          "ename": "SyntaxError",
          "evalue": "invalid syntax (<ipython-input-2-6b2fb61fa7f4>, line 1)",
          "traceback": [
            "\u001b[0;36m  File \u001b[0;32m\"<ipython-input-2-6b2fb61fa7f4>\"\u001b[0;36m, line \u001b[0;32m1\u001b[0m\n\u001b[0;31m    git init\u001b[0m\n\u001b[0m        ^\u001b[0m\n\u001b[0;31mSyntaxError\u001b[0m\u001b[0;31m:\u001b[0m invalid syntax\n"
          ]
        }
      ]
    }
  ],
  "metadata": {
    "colab": {
      "provenance": [],
      "authorship_tag": "ABX9TyObD1eMvUa4L3HrrBv8lXip",
      "include_colab_link": true
    },
    "kernelspec": {
      "display_name": "Python 3",
      "name": "python3"
    },
    "language_info": {
      "name": "python"
    }
  },
  "nbformat": 4,
  "nbformat_minor": 0
}
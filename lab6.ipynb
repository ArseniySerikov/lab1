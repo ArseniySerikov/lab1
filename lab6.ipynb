{
  "nbformat": 4,
  "nbformat_minor": 0,
  "metadata": {
    "colab": {
      "provenance": [],
      "authorship_tag": "ABX9TyPE1ZWPZ6H6DQXydg+YE7pi",
      "include_colab_link": true
    },
    "kernelspec": {
      "name": "python3",
      "display_name": "Python 3"
    },
    "language_info": {
      "name": "python"
    }
  },
  "cells": [
    {
      "cell_type": "markdown",
      "metadata": {
        "id": "view-in-github",
        "colab_type": "text"
      },
      "source": [
        "<a href=\"https://colab.research.google.com/github/ArseniySerikov/lab1/blob/main/lab6.ipynb\" target=\"_parent\"><img src=\"https://colab.research.google.com/assets/colab-badge.svg\" alt=\"Open In Colab\"/></a>"
      ]
    },
    {
      "cell_type": "code",
      "execution_count": null,
      "metadata": {
        "id": "evB65sdXYkGy"
      },
      "outputs": [],
      "source": [
        "import functools\n",
        "\n",
        "def limit_calls(max_calls):\n",
        "    def decorator(func):\n",
        "        def wrapper(*args, **kwargs):\n",
        "            if wrapper.calls < max_calls:\n",
        "                wrapper.calls += 1\n",
        "                return func(*args, **kwargs)\n",
        "            else:\n",
        "                return False\n",
        "        wrapper.calls = 0\n",
        "        return wrapper\n",
        "    return decorator\n",
        "\n",
        "@limit_calls(3)\n",
        "def add(a, b):\n",
        "    return a + b\n",
        "\n",
        "@limit_calls(3)\n",
        "def multiply(a, b, c):\n",
        "    return a * b * c\n",
        "\n",
        "@limit_calls(3)\n",
        "def greet(name):\n",
        "    return f\"Hello, {name}!\"\n",
        "\n",
        "\n",
        "\n",
        "print(add(2, 3))\n",
        "print(add(4, 5))\n",
        "print(add(6, 7))\n",
        "print(add(8, 9))\n",
        "\n",
        "print(multiply(2, 3, 4))\n",
        "print(multiply(3, 4, 1))\n",
        "print(multiply(5, 6, 7))\n",
        "print(multiply(1, 1, 1))\n",
        "\n",
        "print(greet(\"Alice\"))\n",
        "print(greet(\"Bob\"))\n",
        "print(greet(\"Charlie\"))\n",
        "print(greet(\"Dave\"))\n",
        "\n",
        "\n"
      ]
    }
  ]
}